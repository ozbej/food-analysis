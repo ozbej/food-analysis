{
  "nbformat": 4,
  "nbformat_minor": 0,
  "metadata": {
    "colab": {
      "provenance": [],
      "authorship_tag": "ABX9TyNeR0QdDY5djJT7caP290jJ",
      "include_colab_link": true
    },
    "kernelspec": {
      "name": "python3",
      "display_name": "Python 3"
    },
    "language_info": {
      "name": "python"
    },
    "widgets": {
      "application/vnd.jupyter.widget-state+json": {
        "d13bf71b06a940e88e8a81b198350d49": {
          "model_module": "@jupyter-widgets/controls",
          "model_name": "HBoxModel",
          "model_module_version": "1.5.0",
          "state": {
            "_dom_classes": [],
            "_model_module": "@jupyter-widgets/controls",
            "_model_module_version": "1.5.0",
            "_model_name": "HBoxModel",
            "_view_count": null,
            "_view_module": "@jupyter-widgets/controls",
            "_view_module_version": "1.5.0",
            "_view_name": "HBoxView",
            "box_style": "",
            "children": [
              "IPY_MODEL_ed54a8b61062445bb1060c7566bf5b3a",
              "IPY_MODEL_59abe8bcc2f0488a9eecec62c278bfbb",
              "IPY_MODEL_d2255af1e44a4006891d53ebdb50a94d"
            ],
            "layout": "IPY_MODEL_2c62eb685d1346fa9ed4d790baa64599"
          }
        },
        "ed54a8b61062445bb1060c7566bf5b3a": {
          "model_module": "@jupyter-widgets/controls",
          "model_name": "HTMLModel",
          "model_module_version": "1.5.0",
          "state": {
            "_dom_classes": [],
            "_model_module": "@jupyter-widgets/controls",
            "_model_module_version": "1.5.0",
            "_model_name": "HTMLModel",
            "_view_count": null,
            "_view_module": "@jupyter-widgets/controls",
            "_view_module_version": "1.5.0",
            "_view_name": "HTMLView",
            "description": "",
            "description_tooltip": null,
            "layout": "IPY_MODEL_c743224d37d1477f844c3da510d19a07",
            "placeholder": "​",
            "style": "IPY_MODEL_55c26844af2042a98bc7bab71761108b",
            "value": "Downloading builder script: "
          }
        },
        "59abe8bcc2f0488a9eecec62c278bfbb": {
          "model_module": "@jupyter-widgets/controls",
          "model_name": "FloatProgressModel",
          "model_module_version": "1.5.0",
          "state": {
            "_dom_classes": [],
            "_model_module": "@jupyter-widgets/controls",
            "_model_module_version": "1.5.0",
            "_model_name": "FloatProgressModel",
            "_view_count": null,
            "_view_module": "@jupyter-widgets/controls",
            "_view_module_version": "1.5.0",
            "_view_name": "ProgressView",
            "bar_style": "success",
            "description": "",
            "description_tooltip": null,
            "layout": "IPY_MODEL_80f975adc2f6412e86285619ae597384",
            "max": 2472,
            "min": 0,
            "orientation": "horizontal",
            "style": "IPY_MODEL_c02738a13c5247f3a6f09df5331aee1b",
            "value": 2472
          }
        },
        "d2255af1e44a4006891d53ebdb50a94d": {
          "model_module": "@jupyter-widgets/controls",
          "model_name": "HTMLModel",
          "model_module_version": "1.5.0",
          "state": {
            "_dom_classes": [],
            "_model_module": "@jupyter-widgets/controls",
            "_model_module_version": "1.5.0",
            "_model_name": "HTMLModel",
            "_view_count": null,
            "_view_module": "@jupyter-widgets/controls",
            "_view_module_version": "1.5.0",
            "_view_name": "HTMLView",
            "description": "",
            "description_tooltip": null,
            "layout": "IPY_MODEL_02d9f30bad9d42e2941173a3a2ca487b",
            "placeholder": "​",
            "style": "IPY_MODEL_d6a6c308edc34af99b4534d3b40f467e",
            "value": " 6.33k/? [00:00&lt;00:00, 332kB/s]"
          }
        },
        "2c62eb685d1346fa9ed4d790baa64599": {
          "model_module": "@jupyter-widgets/base",
          "model_name": "LayoutModel",
          "model_module_version": "1.2.0",
          "state": {
            "_model_module": "@jupyter-widgets/base",
            "_model_module_version": "1.2.0",
            "_model_name": "LayoutModel",
            "_view_count": null,
            "_view_module": "@jupyter-widgets/base",
            "_view_module_version": "1.2.0",
            "_view_name": "LayoutView",
            "align_content": null,
            "align_items": null,
            "align_self": null,
            "border": null,
            "bottom": null,
            "display": null,
            "flex": null,
            "flex_flow": null,
            "grid_area": null,
            "grid_auto_columns": null,
            "grid_auto_flow": null,
            "grid_auto_rows": null,
            "grid_column": null,
            "grid_gap": null,
            "grid_row": null,
            "grid_template_areas": null,
            "grid_template_columns": null,
            "grid_template_rows": null,
            "height": null,
            "justify_content": null,
            "justify_items": null,
            "left": null,
            "margin": null,
            "max_height": null,
            "max_width": null,
            "min_height": null,
            "min_width": null,
            "object_fit": null,
            "object_position": null,
            "order": null,
            "overflow": null,
            "overflow_x": null,
            "overflow_y": null,
            "padding": null,
            "right": null,
            "top": null,
            "visibility": null,
            "width": null
          }
        },
        "c743224d37d1477f844c3da510d19a07": {
          "model_module": "@jupyter-widgets/base",
          "model_name": "LayoutModel",
          "model_module_version": "1.2.0",
          "state": {
            "_model_module": "@jupyter-widgets/base",
            "_model_module_version": "1.2.0",
            "_model_name": "LayoutModel",
            "_view_count": null,
            "_view_module": "@jupyter-widgets/base",
            "_view_module_version": "1.2.0",
            "_view_name": "LayoutView",
            "align_content": null,
            "align_items": null,
            "align_self": null,
            "border": null,
            "bottom": null,
            "display": null,
            "flex": null,
            "flex_flow": null,
            "grid_area": null,
            "grid_auto_columns": null,
            "grid_auto_flow": null,
            "grid_auto_rows": null,
            "grid_column": null,
            "grid_gap": null,
            "grid_row": null,
            "grid_template_areas": null,
            "grid_template_columns": null,
            "grid_template_rows": null,
            "height": null,
            "justify_content": null,
            "justify_items": null,
            "left": null,
            "margin": null,
            "max_height": null,
            "max_width": null,
            "min_height": null,
            "min_width": null,
            "object_fit": null,
            "object_position": null,
            "order": null,
            "overflow": null,
            "overflow_x": null,
            "overflow_y": null,
            "padding": null,
            "right": null,
            "top": null,
            "visibility": null,
            "width": null
          }
        },
        "55c26844af2042a98bc7bab71761108b": {
          "model_module": "@jupyter-widgets/controls",
          "model_name": "DescriptionStyleModel",
          "model_module_version": "1.5.0",
          "state": {
            "_model_module": "@jupyter-widgets/controls",
            "_model_module_version": "1.5.0",
            "_model_name": "DescriptionStyleModel",
            "_view_count": null,
            "_view_module": "@jupyter-widgets/base",
            "_view_module_version": "1.2.0",
            "_view_name": "StyleView",
            "description_width": ""
          }
        },
        "80f975adc2f6412e86285619ae597384": {
          "model_module": "@jupyter-widgets/base",
          "model_name": "LayoutModel",
          "model_module_version": "1.2.0",
          "state": {
            "_model_module": "@jupyter-widgets/base",
            "_model_module_version": "1.2.0",
            "_model_name": "LayoutModel",
            "_view_count": null,
            "_view_module": "@jupyter-widgets/base",
            "_view_module_version": "1.2.0",
            "_view_name": "LayoutView",
            "align_content": null,
            "align_items": null,
            "align_self": null,
            "border": null,
            "bottom": null,
            "display": null,
            "flex": null,
            "flex_flow": null,
            "grid_area": null,
            "grid_auto_columns": null,
            "grid_auto_flow": null,
            "grid_auto_rows": null,
            "grid_column": null,
            "grid_gap": null,
            "grid_row": null,
            "grid_template_areas": null,
            "grid_template_columns": null,
            "grid_template_rows": null,
            "height": null,
            "justify_content": null,
            "justify_items": null,
            "left": null,
            "margin": null,
            "max_height": null,
            "max_width": null,
            "min_height": null,
            "min_width": null,
            "object_fit": null,
            "object_position": null,
            "order": null,
            "overflow": null,
            "overflow_x": null,
            "overflow_y": null,
            "padding": null,
            "right": null,
            "top": null,
            "visibility": null,
            "width": null
          }
        },
        "c02738a13c5247f3a6f09df5331aee1b": {
          "model_module": "@jupyter-widgets/controls",
          "model_name": "ProgressStyleModel",
          "model_module_version": "1.5.0",
          "state": {
            "_model_module": "@jupyter-widgets/controls",
            "_model_module_version": "1.5.0",
            "_model_name": "ProgressStyleModel",
            "_view_count": null,
            "_view_module": "@jupyter-widgets/base",
            "_view_module_version": "1.2.0",
            "_view_name": "StyleView",
            "bar_color": null,
            "description_width": ""
          }
        },
        "02d9f30bad9d42e2941173a3a2ca487b": {
          "model_module": "@jupyter-widgets/base",
          "model_name": "LayoutModel",
          "model_module_version": "1.2.0",
          "state": {
            "_model_module": "@jupyter-widgets/base",
            "_model_module_version": "1.2.0",
            "_model_name": "LayoutModel",
            "_view_count": null,
            "_view_module": "@jupyter-widgets/base",
            "_view_module_version": "1.2.0",
            "_view_name": "LayoutView",
            "align_content": null,
            "align_items": null,
            "align_self": null,
            "border": null,
            "bottom": null,
            "display": null,
            "flex": null,
            "flex_flow": null,
            "grid_area": null,
            "grid_auto_columns": null,
            "grid_auto_flow": null,
            "grid_auto_rows": null,
            "grid_column": null,
            "grid_gap": null,
            "grid_row": null,
            "grid_template_areas": null,
            "grid_template_columns": null,
            "grid_template_rows": null,
            "height": null,
            "justify_content": null,
            "justify_items": null,
            "left": null,
            "margin": null,
            "max_height": null,
            "max_width": null,
            "min_height": null,
            "min_width": null,
            "object_fit": null,
            "object_position": null,
            "order": null,
            "overflow": null,
            "overflow_x": null,
            "overflow_y": null,
            "padding": null,
            "right": null,
            "top": null,
            "visibility": null,
            "width": null
          }
        },
        "d6a6c308edc34af99b4534d3b40f467e": {
          "model_module": "@jupyter-widgets/controls",
          "model_name": "DescriptionStyleModel",
          "model_module_version": "1.5.0",
          "state": {
            "_model_module": "@jupyter-widgets/controls",
            "_model_module_version": "1.5.0",
            "_model_name": "DescriptionStyleModel",
            "_view_count": null,
            "_view_module": "@jupyter-widgets/base",
            "_view_module_version": "1.2.0",
            "_view_name": "StyleView",
            "description_width": ""
          }
        },
        "88a31392c98d4701a2ce14690fad0cb8": {
          "model_module": "@jupyter-widgets/controls",
          "model_name": "HBoxModel",
          "model_module_version": "1.5.0",
          "state": {
            "_dom_classes": [],
            "_model_module": "@jupyter-widgets/controls",
            "_model_module_version": "1.5.0",
            "_model_name": "HBoxModel",
            "_view_count": null,
            "_view_module": "@jupyter-widgets/controls",
            "_view_module_version": "1.5.0",
            "_view_name": "HBoxView",
            "box_style": "",
            "children": [
              "IPY_MODEL_bdd33192869b49309431b5d259fc237c",
              "IPY_MODEL_e30afa61074943839303ef50a112f22c",
              "IPY_MODEL_4e09b30102744c439fc938a33fd7a625"
            ],
            "layout": "IPY_MODEL_8b1578fd9e4244dface896b866e22b7a"
          }
        },
        "bdd33192869b49309431b5d259fc237c": {
          "model_module": "@jupyter-widgets/controls",
          "model_name": "HTMLModel",
          "model_module_version": "1.5.0",
          "state": {
            "_dom_classes": [],
            "_model_module": "@jupyter-widgets/controls",
            "_model_module_version": "1.5.0",
            "_model_name": "HTMLModel",
            "_view_count": null,
            "_view_module": "@jupyter-widgets/controls",
            "_view_module_version": "1.5.0",
            "_view_name": "HTMLView",
            "description": "",
            "description_tooltip": null,
            "layout": "IPY_MODEL_15bea5494fef4d2c927c56e3e05718b8",
            "placeholder": "​",
            "style": "IPY_MODEL_5ae8190d3cb746889238951dd981e378",
            "value": "100%"
          }
        },
        "e30afa61074943839303ef50a112f22c": {
          "model_module": "@jupyter-widgets/controls",
          "model_name": "FloatProgressModel",
          "model_module_version": "1.5.0",
          "state": {
            "_dom_classes": [],
            "_model_module": "@jupyter-widgets/controls",
            "_model_module_version": "1.5.0",
            "_model_name": "FloatProgressModel",
            "_view_count": null,
            "_view_module": "@jupyter-widgets/controls",
            "_view_module_version": "1.5.0",
            "_view_name": "ProgressView",
            "bar_style": "success",
            "description": "",
            "description_tooltip": null,
            "layout": "IPY_MODEL_1d30fb402bbd49c496b04aac434f9cd6",
            "max": 1,
            "min": 0,
            "orientation": "horizontal",
            "style": "IPY_MODEL_72b79f9a132643d19e7bb0d87aa6972a",
            "value": 1
          }
        },
        "4e09b30102744c439fc938a33fd7a625": {
          "model_module": "@jupyter-widgets/controls",
          "model_name": "HTMLModel",
          "model_module_version": "1.5.0",
          "state": {
            "_dom_classes": [],
            "_model_module": "@jupyter-widgets/controls",
            "_model_module_version": "1.5.0",
            "_model_name": "HTMLModel",
            "_view_count": null,
            "_view_module": "@jupyter-widgets/controls",
            "_view_module_version": "1.5.0",
            "_view_name": "HTMLView",
            "description": "",
            "description_tooltip": null,
            "layout": "IPY_MODEL_9307ea757d454839a4bc20b059ea7c27",
            "placeholder": "​",
            "style": "IPY_MODEL_2dfa6bcd044c48cbb0b8ed4231ac95a0",
            "value": " 1/1 [00:00&lt;00:00, 31.94it/s]"
          }
        },
        "8b1578fd9e4244dface896b866e22b7a": {
          "model_module": "@jupyter-widgets/base",
          "model_name": "LayoutModel",
          "model_module_version": "1.2.0",
          "state": {
            "_model_module": "@jupyter-widgets/base",
            "_model_module_version": "1.2.0",
            "_model_name": "LayoutModel",
            "_view_count": null,
            "_view_module": "@jupyter-widgets/base",
            "_view_module_version": "1.2.0",
            "_view_name": "LayoutView",
            "align_content": null,
            "align_items": null,
            "align_self": null,
            "border": null,
            "bottom": null,
            "display": null,
            "flex": null,
            "flex_flow": null,
            "grid_area": null,
            "grid_auto_columns": null,
            "grid_auto_flow": null,
            "grid_auto_rows": null,
            "grid_column": null,
            "grid_gap": null,
            "grid_row": null,
            "grid_template_areas": null,
            "grid_template_columns": null,
            "grid_template_rows": null,
            "height": null,
            "justify_content": null,
            "justify_items": null,
            "left": null,
            "margin": null,
            "max_height": null,
            "max_width": null,
            "min_height": null,
            "min_width": null,
            "object_fit": null,
            "object_position": null,
            "order": null,
            "overflow": null,
            "overflow_x": null,
            "overflow_y": null,
            "padding": null,
            "right": null,
            "top": null,
            "visibility": null,
            "width": null
          }
        },
        "15bea5494fef4d2c927c56e3e05718b8": {
          "model_module": "@jupyter-widgets/base",
          "model_name": "LayoutModel",
          "model_module_version": "1.2.0",
          "state": {
            "_model_module": "@jupyter-widgets/base",
            "_model_module_version": "1.2.0",
            "_model_name": "LayoutModel",
            "_view_count": null,
            "_view_module": "@jupyter-widgets/base",
            "_view_module_version": "1.2.0",
            "_view_name": "LayoutView",
            "align_content": null,
            "align_items": null,
            "align_self": null,
            "border": null,
            "bottom": null,
            "display": null,
            "flex": null,
            "flex_flow": null,
            "grid_area": null,
            "grid_auto_columns": null,
            "grid_auto_flow": null,
            "grid_auto_rows": null,
            "grid_column": null,
            "grid_gap": null,
            "grid_row": null,
            "grid_template_areas": null,
            "grid_template_columns": null,
            "grid_template_rows": null,
            "height": null,
            "justify_content": null,
            "justify_items": null,
            "left": null,
            "margin": null,
            "max_height": null,
            "max_width": null,
            "min_height": null,
            "min_width": null,
            "object_fit": null,
            "object_position": null,
            "order": null,
            "overflow": null,
            "overflow_x": null,
            "overflow_y": null,
            "padding": null,
            "right": null,
            "top": null,
            "visibility": null,
            "width": null
          }
        },
        "5ae8190d3cb746889238951dd981e378": {
          "model_module": "@jupyter-widgets/controls",
          "model_name": "DescriptionStyleModel",
          "model_module_version": "1.5.0",
          "state": {
            "_model_module": "@jupyter-widgets/controls",
            "_model_module_version": "1.5.0",
            "_model_name": "DescriptionStyleModel",
            "_view_count": null,
            "_view_module": "@jupyter-widgets/base",
            "_view_module_version": "1.2.0",
            "_view_name": "StyleView",
            "description_width": ""
          }
        },
        "1d30fb402bbd49c496b04aac434f9cd6": {
          "model_module": "@jupyter-widgets/base",
          "model_name": "LayoutModel",
          "model_module_version": "1.2.0",
          "state": {
            "_model_module": "@jupyter-widgets/base",
            "_model_module_version": "1.2.0",
            "_model_name": "LayoutModel",
            "_view_count": null,
            "_view_module": "@jupyter-widgets/base",
            "_view_module_version": "1.2.0",
            "_view_name": "LayoutView",
            "align_content": null,
            "align_items": null,
            "align_self": null,
            "border": null,
            "bottom": null,
            "display": null,
            "flex": null,
            "flex_flow": null,
            "grid_area": null,
            "grid_auto_columns": null,
            "grid_auto_flow": null,
            "grid_auto_rows": null,
            "grid_column": null,
            "grid_gap": null,
            "grid_row": null,
            "grid_template_areas": null,
            "grid_template_columns": null,
            "grid_template_rows": null,
            "height": null,
            "justify_content": null,
            "justify_items": null,
            "left": null,
            "margin": null,
            "max_height": null,
            "max_width": null,
            "min_height": null,
            "min_width": null,
            "object_fit": null,
            "object_position": null,
            "order": null,
            "overflow": null,
            "overflow_x": null,
            "overflow_y": null,
            "padding": null,
            "right": null,
            "top": null,
            "visibility": null,
            "width": null
          }
        },
        "72b79f9a132643d19e7bb0d87aa6972a": {
          "model_module": "@jupyter-widgets/controls",
          "model_name": "ProgressStyleModel",
          "model_module_version": "1.5.0",
          "state": {
            "_model_module": "@jupyter-widgets/controls",
            "_model_module_version": "1.5.0",
            "_model_name": "ProgressStyleModel",
            "_view_count": null,
            "_view_module": "@jupyter-widgets/base",
            "_view_module_version": "1.2.0",
            "_view_name": "StyleView",
            "bar_color": null,
            "description_width": ""
          }
        },
        "9307ea757d454839a4bc20b059ea7c27": {
          "model_module": "@jupyter-widgets/base",
          "model_name": "LayoutModel",
          "model_module_version": "1.2.0",
          "state": {
            "_model_module": "@jupyter-widgets/base",
            "_model_module_version": "1.2.0",
            "_model_name": "LayoutModel",
            "_view_count": null,
            "_view_module": "@jupyter-widgets/base",
            "_view_module_version": "1.2.0",
            "_view_name": "LayoutView",
            "align_content": null,
            "align_items": null,
            "align_self": null,
            "border": null,
            "bottom": null,
            "display": null,
            "flex": null,
            "flex_flow": null,
            "grid_area": null,
            "grid_auto_columns": null,
            "grid_auto_flow": null,
            "grid_auto_rows": null,
            "grid_column": null,
            "grid_gap": null,
            "grid_row": null,
            "grid_template_areas": null,
            "grid_template_columns": null,
            "grid_template_rows": null,
            "height": null,
            "justify_content": null,
            "justify_items": null,
            "left": null,
            "margin": null,
            "max_height": null,
            "max_width": null,
            "min_height": null,
            "min_width": null,
            "object_fit": null,
            "object_position": null,
            "order": null,
            "overflow": null,
            "overflow_x": null,
            "overflow_y": null,
            "padding": null,
            "right": null,
            "top": null,
            "visibility": null,
            "width": null
          }
        },
        "2dfa6bcd044c48cbb0b8ed4231ac95a0": {
          "model_module": "@jupyter-widgets/controls",
          "model_name": "DescriptionStyleModel",
          "model_module_version": "1.5.0",
          "state": {
            "_model_module": "@jupyter-widgets/controls",
            "_model_module_version": "1.5.0",
            "_model_name": "DescriptionStyleModel",
            "_view_count": null,
            "_view_module": "@jupyter-widgets/base",
            "_view_module_version": "1.2.0",
            "_view_name": "StyleView",
            "description_width": ""
          }
        }
      }
    },
    "gpuClass": "standard",
    "accelerator": "GPU"
  },
  "cells": [
    {
      "cell_type": "markdown",
      "metadata": {
        "id": "view-in-github",
        "colab_type": "text"
      },
      "source": [
        "<a href=\"https://colab.research.google.com/github/ozbej/food-analysis/blob/main/ingredient_NER_test_infer.ipynb\" target=\"_parent\"><img src=\"https://colab.research.google.com/assets/colab-badge.svg\" alt=\"Open In Colab\"/></a>"
      ]
    },
    {
      "cell_type": "markdown",
      "source": [
        "# Ingredient NER extraction evaluation"
      ],
      "metadata": {
        "id": "6c5Nx8dmaDzD"
      }
    },
    {
      "cell_type": "code",
      "execution_count": 38,
      "metadata": {
        "id": "tztKtuasQs9x"
      },
      "outputs": [],
      "source": [
        "%%capture\n",
        "!pip install transformers datasets seqeval"
      ]
    },
    {
      "cell_type": "code",
      "source": [
        "from google.colab import drive\n",
        "from datasets import load_dataset, load_metric, DatasetDict\n",
        "from transformers import AutoModelForTokenClassification, AutoTokenizer\n",
        "import numpy as np\n",
        "from ast import literal_eval\n",
        "import nltk\n",
        "from nltk.tokenize import word_tokenize\n",
        "import torch\n",
        "\n",
        "nltk.download('punkt')\n",
        "\n",
        "drive.mount('/content/drive')"
      ],
      "metadata": {
        "colab": {
          "base_uri": "https://localhost:8080/"
        },
        "id": "-HfUBIC4R_9h",
        "outputId": "a165c1c3-14b0-4360-f182-eb2f3fbae741"
      },
      "execution_count": 39,
      "outputs": [
        {
          "output_type": "stream",
          "name": "stderr",
          "text": [
            "[nltk_data] Downloading package punkt to /root/nltk_data...\n",
            "[nltk_data]   Package punkt is already up-to-date!\n"
          ]
        },
        {
          "output_type": "stream",
          "name": "stdout",
          "text": [
            "Drive already mounted at /content/drive; to attempt to forcibly remount, call drive.mount(\"/content/drive\", force_remount=True).\n"
          ]
        }
      ]
    },
    {
      "cell_type": "code",
      "source": [
        "!unzip \"/content/drive/MyDrive/AIR/model.zip\" -d \"./\"\n",
        "!unzip \"/content/drive/MyDrive/AIR/dataset_tagged_30k.zip\" -d \"./data\""
      ],
      "metadata": {
        "colab": {
          "base_uri": "https://localhost:8080/"
        },
        "id": "zJksM3dsSDIF",
        "outputId": "2de7ed46-c7bf-4ae1-e2c7-8c921b581caf"
      },
      "execution_count": null,
      "outputs": [
        {
          "output_type": "stream",
          "name": "stdout",
          "text": [
            "Archive:  /content/drive/MyDrive/AIR/model.zip\n",
            "  inflating: ./model/config.json     \n",
            "  inflating: ./model/pytorch_model.bin  \n",
            "  inflating: ./model/special_tokens_map.json  \n",
            "  inflating: ./model/tokenizer_config.json  \n",
            "  inflating: ./model/tokenizer.json  \n",
            "  inflating: ./model/training_args.bin  \n",
            "  inflating: ./model/vocab.txt       \n",
            "Archive:  /content/drive/MyDrive/AIR/dataset_tagged_30k.zip\n",
            "  inflating: ./data/dataset-train-tagged.csv  \n",
            "  inflating: ./data/dataset-valid-tagged.csv  \n",
            "  inflating: ./data/dataset-test-tagged.csv  \n"
          ]
        }
      ]
    },
    {
      "cell_type": "markdown",
      "source": [
        "Define labels and label-index mapping"
      ],
      "metadata": {
        "id": "vtFwlxwBa1or"
      }
    },
    {
      "cell_type": "code",
      "source": [
        "label_list = [\"O\", \"B-ING\", \"I-ING\"]\n",
        "id2label = {i: label for i, label in enumerate(label_list)}\n",
        "label2id = {v: k for k, v in id2label.items()}"
      ],
      "metadata": {
        "id": "42dA0cwla0Rm"
      },
      "execution_count": 40,
      "outputs": []
    },
    {
      "cell_type": "markdown",
      "source": [
        "Load dataset and turn `labels` column from string to array"
      ],
      "metadata": {
        "id": "_FSOwuU4LMbN"
      }
    },
    {
      "cell_type": "code",
      "source": [
        "dataset = load_dataset('csv', data_files={'test': 'data/dataset-test-tagged.csv'})"
      ],
      "metadata": {
        "colab": {
          "base_uri": "https://localhost:8080/",
          "height": 86,
          "referenced_widgets": [
            "88a31392c98d4701a2ce14690fad0cb8",
            "bdd33192869b49309431b5d259fc237c",
            "e30afa61074943839303ef50a112f22c",
            "4e09b30102744c439fc938a33fd7a625",
            "8b1578fd9e4244dface896b866e22b7a",
            "15bea5494fef4d2c927c56e3e05718b8",
            "5ae8190d3cb746889238951dd981e378",
            "1d30fb402bbd49c496b04aac434f9cd6",
            "72b79f9a132643d19e7bb0d87aa6972a",
            "9307ea757d454839a4bc20b059ea7c27",
            "2dfa6bcd044c48cbb0b8ed4231ac95a0"
          ]
        },
        "id": "U9Uydxipbr-4",
        "outputId": "2ab1b98d-60ba-4303-a078-dbf5d5780c6c"
      },
      "execution_count": 41,
      "outputs": [
        {
          "output_type": "stream",
          "name": "stderr",
          "text": [
            "WARNING:datasets.builder:Using custom data configuration default-c5cc993236af7943\n",
            "WARNING:datasets.builder:Found cached dataset csv (/root/.cache/huggingface/datasets/csv/default-c5cc993236af7943/0.0.0/6b34fb8fcf56f7c8ba51dc895bfa2bfbe43546f190a60fcf74bb5e8afdcc2317)\n"
          ]
        },
        {
          "output_type": "display_data",
          "data": {
            "text/plain": [
              "  0%|          | 0/1 [00:00<?, ?it/s]"
            ],
            "application/vnd.jupyter.widget-view+json": {
              "version_major": 2,
              "version_minor": 0,
              "model_id": "88a31392c98d4701a2ce14690fad0cb8"
            }
          },
          "metadata": {}
        }
      ]
    },
    {
      "cell_type": "code",
      "source": [
        "def process_tagged_rows(row):\n",
        "  row[\"labels\"] = literal_eval(row[\"labels\"])\n",
        "  return row\n",
        "\n",
        "dataset[\"test\"] = dataset[\"test\"].map(process_tagged_rows)"
      ],
      "metadata": {
        "colab": {
          "base_uri": "https://localhost:8080/"
        },
        "id": "V3ndah5lftPI",
        "outputId": "04b279e7-a56b-4f00-ca89-37348cdd8380"
      },
      "execution_count": 42,
      "outputs": [
        {
          "output_type": "stream",
          "name": "stderr",
          "text": [
            "WARNING:datasets.arrow_dataset:Loading cached processed dataset at /root/.cache/huggingface/datasets/csv/default-c5cc993236af7943/0.0.0/6b34fb8fcf56f7c8ba51dc895bfa2bfbe43546f190a60fcf74bb5e8afdcc2317/cache-0b9ff6695e3fcebc.arrow\n"
          ]
        }
      ]
    },
    {
      "cell_type": "markdown",
      "source": [
        "Load tokenizer and model"
      ],
      "metadata": {
        "id": "aIXRfAExLVCr"
      }
    },
    {
      "cell_type": "code",
      "source": [
        "tokenizer = AutoTokenizer.from_pretrained('bert-base-uncased')\n",
        "model = AutoModelForTokenClassification.from_pretrained(\n",
        "    './model/',\n",
        "    id2label=id2label,\n",
        "    label2id=label2id\n",
        ")"
      ],
      "metadata": {
        "id": "-ixJJF6WSfej"
      },
      "execution_count": null,
      "outputs": []
    },
    {
      "cell_type": "markdown",
      "source": [
        "Since the defined tokenizer is subword tokenizer, we have to align labels based on `word_ids`"
      ],
      "metadata": {
        "id": "vQ3AyUEaLZif"
      }
    },
    {
      "cell_type": "code",
      "source": [
        "def align_labels_with_tokens(labels, word_ids):\n",
        "  new_labels = []\n",
        "  current_word = None\n",
        "  for word_id in word_ids:\n",
        "    if word_id != current_word: # Start of a new word\n",
        "      current_word = word_id\n",
        "      label = -100 if word_id is None else labels[word_id]\n",
        "      new_labels.append(label)\n",
        "    elif word_id is None: # Special token\n",
        "      new_labels.append(-100)\n",
        "    else: # Same word as previous token\n",
        "      label = labels[word_id]\n",
        "      if label == 1: # If label is B-ING we change it to I-ING\n",
        "        label = 2\n",
        "      new_labels.append(label)\n",
        "\n",
        "  return new_labels"
      ],
      "metadata": {
        "id": "Knss_dyGnhhP"
      },
      "execution_count": null,
      "outputs": []
    },
    {
      "cell_type": "code",
      "source": [
        "def tokenize_and_align_labels(row):\n",
        "  try:\n",
        "    tokens = literal_eval(row[\"recipe_tokenized\"])\n",
        "  except:\n",
        "    tokens = row[\"recipe_tokenized\"].replace(',\"\\\\\",', \",\")\n",
        "    tokens = literal_eval(tokens)\n",
        "  tokenized_inputs = tokenizer(tokens, truncation=True, is_split_into_words=True, return_tensors=\"pt\")\n",
        "  labels = row[\"labels\"]\n",
        "  new_labels = []\n",
        "  word_ids = tokenized_inputs.word_ids()\n",
        "  row[\"labels\"] = align_labels_with_tokens(labels, word_ids)\n",
        "  return tokenized_inputs"
      ],
      "metadata": {
        "id": "Bq6rYi_Ln8zE"
      },
      "execution_count": null,
      "outputs": []
    },
    {
      "cell_type": "markdown",
      "source": [
        "Define a function for computing evaluation metrics"
      ],
      "metadata": {
        "id": "4lODcXRXLdHV"
      }
    },
    {
      "cell_type": "code",
      "source": [
        "metric_seqeval = load_metric(\"seqeval\")\n",
        "\n",
        "def compute_metrics(eval_preds):\n",
        "    logits, labels = eval_preds\n",
        "    predictions = np.argmax(logits, axis=-1)\n",
        "\n",
        "    # Remove ignored index (special tokens) and convert to labels\n",
        "    true_labels = [[id2label[l] for l in label if l != -100] for label in labels]\n",
        "    true_predictions = [\n",
        "        [id2label[p] for (p, l) in zip(prediction, label) if l != -100]\n",
        "        for prediction, label in zip(predictions, labels)\n",
        "    ]\n",
        "    all_metrics = metric_seqeval.compute(predictions=true_predictions, references=true_labels)\n",
        "    return {\n",
        "        \"precision\": all_metrics[\"overall_precision\"],\n",
        "        \"recall\": all_metrics[\"overall_recall\"],\n",
        "        \"f1\": all_metrics[\"overall_f1\"],\n",
        "        \"accuracy\": all_metrics[\"overall_accuracy\"],\n",
        "    }"
      ],
      "metadata": {
        "id": "iFbSd0mDao8Z",
        "colab": {
          "base_uri": "https://localhost:8080/",
          "height": 134,
          "referenced_widgets": [
            "d13bf71b06a940e88e8a81b198350d49",
            "ed54a8b61062445bb1060c7566bf5b3a",
            "59abe8bcc2f0488a9eecec62c278bfbb",
            "d2255af1e44a4006891d53ebdb50a94d",
            "2c62eb685d1346fa9ed4d790baa64599",
            "c743224d37d1477f844c3da510d19a07",
            "55c26844af2042a98bc7bab71761108b",
            "80f975adc2f6412e86285619ae597384",
            "c02738a13c5247f3a6f09df5331aee1b",
            "02d9f30bad9d42e2941173a3a2ca487b",
            "d6a6c308edc34af99b4534d3b40f467e"
          ]
        },
        "outputId": "10ea8de5-f3fa-443f-dca9-011186c7168c"
      },
      "execution_count": null,
      "outputs": [
        {
          "output_type": "stream",
          "name": "stderr",
          "text": [
            "<ipython-input-10-fddd527f5ff9>:1: FutureWarning: load_metric is deprecated and will be removed in the next major version of datasets. Use 'evaluate.load' instead, from the new library 🤗 Evaluate: https://huggingface.co/docs/evaluate\n",
            "  metric_seqeval = load_metric(\"seqeval\")\n"
          ]
        },
        {
          "output_type": "display_data",
          "data": {
            "text/plain": [
              "Downloading builder script:   0%|          | 0.00/2.47k [00:00<?, ?B/s]"
            ],
            "application/vnd.jupyter.widget-view+json": {
              "version_major": 2,
              "version_minor": 0,
              "model_id": "d13bf71b06a940e88e8a81b198350d49"
            }
          },
          "metadata": {}
        }
      ]
    },
    {
      "cell_type": "markdown",
      "source": [
        "Perform NER extraction on the test set and evaluate"
      ],
      "metadata": {
        "id": "0aPk6OOWLgsr"
      }
    },
    {
      "cell_type": "code",
      "source": [
        "from transformers import pipeline\n",
        "\n",
        "model_checkpoint = \"./model/\"\n",
        "\n",
        "all_predictions = []\n",
        "all_real = []\n",
        "\n",
        "for count, row in enumerate(dataset[\"test\"]):\n",
        "\n",
        "  tokenized_inputs = tokenize_and_align_labels(row)\n",
        "\n",
        "  outputs = model(**tokenized_inputs).logits\n",
        "  predictions = torch.argmax(outputs, dim=2)\n",
        "\n",
        "  labels_pred = [id2label[int(i)] for i in predictions[0]]\n",
        "  labels_real = [id2label[i] if i != -100 else \"O\" for i in row[\"labels\"]]\n",
        "\n",
        "  if len(labels_pred) != len(labels_real): \n",
        "    print(\"Error, skipped line\", count)\n",
        "    continue\n",
        "\n",
        "  all_predictions.append(labels_pred)\n",
        "  all_real.append(labels_real)\n",
        "\n",
        "metric_seqeval.compute(predictions=all_predictions, references=all_real)"
      ],
      "metadata": {
        "colab": {
          "base_uri": "https://localhost:8080/"
        },
        "id": "3XW-ZbAxTpI5",
        "outputId": "622b050a-52bb-4ddb-f239-1aa61e238cce"
      },
      "execution_count": null,
      "outputs": [
        {
          "output_type": "execute_result",
          "data": {
            "text/plain": [
              "{'ING': {'precision': 0.7799654576856649,\n",
              "  'recall': 0.8302615250264282,\n",
              "  'f1': 0.8043279827236903,\n",
              "  'number': 21757},\n",
              " 'overall_precision': 0.7799654576856649,\n",
              " 'overall_recall': 0.8302615250264282,\n",
              " 'overall_f1': 0.8043279827236903,\n",
              " 'overall_accuracy': 0.9603418803418804}"
            ]
          },
          "metadata": {},
          "execution_count": 14
        }
      ]
    },
    {
      "cell_type": "markdown",
      "source": [
        "# Infering"
      ],
      "metadata": {
        "id": "EjO6mYAIOvNo"
      }
    },
    {
      "cell_type": "code",
      "source": [
        "from transformers import pipeline\n",
        "\n",
        "# Replace this with your own checkpoint\n",
        "token_classifier = pipeline(\n",
        "    \"token-classification\", model=\"./model/\", aggregation_strategy=\"simple\"\n",
        ")"
      ],
      "metadata": {
        "id": "GvS_EdvoOxpX"
      },
      "execution_count": 44,
      "outputs": []
    },
    {
      "cell_type": "code",
      "source": [
        "recipe = \"\"\"After washing basil and tomatoes, blot them dry with clean paper towel.\n",
        "Using a clean cutting board, cut tomatoes into quarters.\n",
        "For marinade, place first six ingredients in a blender. Cover and process until well blended.\n",
        "Place chicken breasts in a shallow dish, do not rinse raw. Cover with marinade. Cover dish. Refrigerate about 1 hour, turning occasionally.\n",
        "Wash hands with soap and water after handling uncooked chicken.\n",
        "Place chicken on an oiled grill rack over medium heat. Do not reuse marinades used on raw foods. Grill chicken 4-6 minutes per side. Cook until internal temperature reaches 165 °F as measured with a food thermometer.\"\"\""
      ],
      "metadata": {
        "id": "6X0cGuxtO7pv"
      },
      "execution_count": 53,
      "outputs": []
    },
    {
      "cell_type": "code",
      "source": [
        "token_classifier(recipe)"
      ],
      "metadata": {
        "colab": {
          "base_uri": "https://localhost:8080/"
        },
        "id": "EHdd-0SFPEuU",
        "outputId": "7ea0aba6-af41-4473-941b-9db0a5ddf272"
      },
      "execution_count": 54,
      "outputs": [
        {
          "output_type": "execute_result",
          "data": {
            "text/plain": [
              "[{'entity_group': 'ING',\n",
              "  'score': 0.5222461,\n",
              "  'word': 'basil',\n",
              "  'start': 14,\n",
              "  'end': 19},\n",
              " {'entity_group': 'ING',\n",
              "  'score': 0.7998817,\n",
              "  'word': 'tomatoes',\n",
              "  'start': 24,\n",
              "  'end': 32},\n",
              " {'entity_group': 'ING',\n",
              "  'score': 0.8148517,\n",
              "  'word': 'tomatoes',\n",
              "  'start': 105,\n",
              "  'end': 113},\n",
              " {'entity_group': 'ING',\n",
              "  'score': 0.8433876,\n",
              "  'word': 'chicken breasts',\n",
              "  'start': 229,\n",
              "  'end': 244},\n",
              " {'entity_group': 'ING',\n",
              "  'score': 0.8524475,\n",
              "  'word': 'chicken',\n",
              "  'start': 418,\n",
              "  'end': 425},\n",
              " {'entity_group': 'ING',\n",
              "  'score': 0.8691172,\n",
              "  'word': 'chicken',\n",
              "  'start': 433,\n",
              "  'end': 440},\n",
              " {'entity_group': 'ING',\n",
              "  'score': 0.84621054,\n",
              "  'word': 'chicken',\n",
              "  'start': 530,\n",
              "  'end': 537}]"
            ]
          },
          "metadata": {},
          "execution_count": 54
        }
      ]
    }
  ]
}